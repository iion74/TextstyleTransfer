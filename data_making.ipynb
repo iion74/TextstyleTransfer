{
 "cells": [
  {
   "cell_type": "code",
   "execution_count": 3,
   "id": "3bb451d4",
   "metadata": {},
   "outputs": [
    {
     "name": "stderr",
     "output_type": "stream",
     "text": [
      "스타일 문장 생성 중:   0%|          | 0/10 [00:00<?, ?it/s]Asking to truncate to max_length but no maximum length is provided and the model has no predefined maximum length. Default to no truncation.\n",
      "스타일 문장 생성 중: 100%|██████████| 10/10 [00:25<00:00,  2.58s/it]"
     ]
    },
    {
     "name": "stdout",
     "output_type": "stream",
     "text": [
      "✅ 스타일 문장 CSV 저장 완료: c:\\Users\\AI-LJH\\Desktop\\캡스톤\\generated_style_dataset.csv\n"
     ]
    },
    {
     "name": "stderr",
     "output_type": "stream",
     "text": [
      "\n"
     ]
    }
   ],
   "source": [
    "from transformers import AutoTokenizer, AutoModelForSeq2SeqLM\n",
    "import pandas as pd\n",
    "from tqdm import tqdm\n",
    "import torch\n",
    "import os\n",
    "\n",
    "# ✅ 모델 및 토크나이저 설정\n",
    "model_name = \"paust/pko-t5-base\"  # 또는 'digit82/kot5-paraphrase', 'KETI-AIR/ke-t5-base'\n",
    "tokenizer = AutoTokenizer.from_pretrained(model_name)\n",
    "model = AutoModelForSeq2SeqLM.from_pretrained(model_name).to(\"cuda\" if torch.cuda.is_available() else \"cpu\")\n",
    "\n",
    "# ✅ 변환할 스타일 목록\n",
    "styles = ['formal', 'informal', 'gentle', 'king', 'enfp']\n",
    "\n",
    "# ✅ 중립적 입력 문장 리스트\n",
    "source_sentences = [\n",
    "    \"오늘은 날씨가 정말 좋다.\",\n",
    "    \"회의가 너무 길어서 피곤하다.\",\n",
    "    \"지금 집에 가는 중이야.\",\n",
    "    \"배가 너무 고프다.\",\n",
    "    \"이번 주말엔 푹 쉬고 싶어.\",\n",
    "    \"과제가 너무 많아서 스트레스 받아.\",\n",
    "    \"친구랑 오랜만에 만나서 기분이 좋았다.\",\n",
    "    \"영화를 보고 나니까 눈물이 났어.\",\n",
    "    \"오늘은 정말 정신없는 하루였다.\",\n",
    "    \"지친 몸을 이끌고 집에 돌아오니 마음이 편안해졌다.\"\n",
    "]\n",
    "\n",
    "# ✅ 스타일 문장 생성 함수\n",
    "def generate_stylized_sentence(style, source, max_length=64):\n",
    "    prompt = f\"Translate to {style} style: {source}\"\n",
    "    inputs = tokenizer(prompt, return_tensors=\"pt\", truncation=True, padding=True).to(model.device)\n",
    "    with torch.no_grad():\n",
    "        output = model.generate(\n",
    "            **inputs,\n",
    "            max_length=max_length,\n",
    "            num_beams=4,\n",
    "            no_repeat_ngram_size=3,\n",
    "            repetition_penalty=1.2,\n",
    "            early_stopping=True\n",
    "        )\n",
    "    result = tokenizer.decode(output[0], skip_special_tokens=True)\n",
    "\n",
    "    # ❗후처리: 프롬프트 흔적 제거\n",
    "    if \"Translate\" in result or \"style\" in result:\n",
    "        result = result.replace(\"Translate\", \"\").replace(\"style\", \"\").strip(\": \").strip()\n",
    "    return result\n",
    "\n",
    "\n",
    "# ✅ 전체 생성 및 저장\n",
    "results = []\n",
    "for source in tqdm(source_sentences, desc=\"스타일 문장 생성 중\"):\n",
    "    for style in styles:\n",
    "        target = generate_stylized_sentence(style, source)\n",
    "        results.append({\n",
    "            \"style\": style,\n",
    "            \"source\": source,\n",
    "            \"target\": target\n",
    "        })\n",
    "\n",
    "# ✅ CSV로 저장 (한글 깨지지 않도록)\n",
    "output_path = \"generated_style_dataset.csv\"\n",
    "df = pd.DataFrame(results)\n",
    "df.to_csv(output_path, index=False, encoding='utf-8-sig')\n",
    "print(f\"✅ 스타일 문장 CSV 저장 완료: {os.path.abspath(output_path)}\")\n"
   ]
  }
 ],
 "metadata": {
  "kernelspec": {
   "display_name": "T5",
   "language": "python",
   "name": "python3"
  },
  "language_info": {
   "codemirror_mode": {
    "name": "ipython",
    "version": 3
   },
   "file_extension": ".py",
   "mimetype": "text/x-python",
   "name": "python",
   "nbconvert_exporter": "python",
   "pygments_lexer": "ipython3",
   "version": "3.10.16"
  }
 },
 "nbformat": 4,
 "nbformat_minor": 5
}
